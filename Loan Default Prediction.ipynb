{
 "cells": [
  {
   "cell_type": "code",
   "execution_count": 2,
   "id": "37102fe7",
   "metadata": {},
   "outputs": [],
   "source": [
    "import pandas as pd\n",
    "import numpy as np\n",
    "import matplotlib.pyplot as plt\n",
    "import pdb\n",
    "import matplotlib.pyplot as plt\n",
    "import seaborn as sns"
   ]
  },
  {
   "cell_type": "markdown",
   "id": "7bb658cd",
   "metadata": {},
   "source": [
    "### Exploratory Data Analysis"
   ]
  },
  {
   "cell_type": "code",
   "execution_count": 3,
   "id": "7d37f4af",
   "metadata": {},
   "outputs": [
    {
     "name": "stdout",
     "output_type": "stream",
     "text": [
      "Number of Observations in adult dataset: (30000, 24)\n"
     ]
    },
    {
     "data": {
      "text/html": [
       "<div>\n",
       "<style scoped>\n",
       "    .dataframe tbody tr th:only-of-type {\n",
       "        vertical-align: middle;\n",
       "    }\n",
       "\n",
       "    .dataframe tbody tr th {\n",
       "        vertical-align: top;\n",
       "    }\n",
       "\n",
       "    .dataframe thead th {\n",
       "        text-align: right;\n",
       "    }\n",
       "</style>\n",
       "<table border=\"1\" class=\"dataframe\">\n",
       "  <thead>\n",
       "    <tr style=\"text-align: right;\">\n",
       "      <th></th>\n",
       "      <th>LIMIT_BAL</th>\n",
       "      <th>SEX</th>\n",
       "      <th>EDUCATION</th>\n",
       "      <th>MARRIAGE</th>\n",
       "      <th>AGE</th>\n",
       "      <th>PAY_0</th>\n",
       "      <th>PAY_2</th>\n",
       "      <th>PAY_3</th>\n",
       "      <th>PAY_4</th>\n",
       "      <th>PAY_5</th>\n",
       "      <th>...</th>\n",
       "      <th>BILL_AMT4</th>\n",
       "      <th>BILL_AMT5</th>\n",
       "      <th>BILL_AMT6</th>\n",
       "      <th>PAY_AMT1</th>\n",
       "      <th>PAY_AMT2</th>\n",
       "      <th>PAY_AMT3</th>\n",
       "      <th>PAY_AMT4</th>\n",
       "      <th>PAY_AMT5</th>\n",
       "      <th>PAY_AMT6</th>\n",
       "      <th>Default_Payment</th>\n",
       "    </tr>\n",
       "  </thead>\n",
       "  <tbody>\n",
       "    <tr>\n",
       "      <th>0</th>\n",
       "      <td>20000</td>\n",
       "      <td>2</td>\n",
       "      <td>2</td>\n",
       "      <td>1</td>\n",
       "      <td>24</td>\n",
       "      <td>2</td>\n",
       "      <td>2</td>\n",
       "      <td>-1</td>\n",
       "      <td>-1</td>\n",
       "      <td>-2</td>\n",
       "      <td>...</td>\n",
       "      <td>0</td>\n",
       "      <td>0</td>\n",
       "      <td>0</td>\n",
       "      <td>0</td>\n",
       "      <td>689</td>\n",
       "      <td>0</td>\n",
       "      <td>0</td>\n",
       "      <td>0</td>\n",
       "      <td>0</td>\n",
       "      <td>1</td>\n",
       "    </tr>\n",
       "    <tr>\n",
       "      <th>1</th>\n",
       "      <td>120000</td>\n",
       "      <td>2</td>\n",
       "      <td>2</td>\n",
       "      <td>2</td>\n",
       "      <td>26</td>\n",
       "      <td>-1</td>\n",
       "      <td>2</td>\n",
       "      <td>0</td>\n",
       "      <td>0</td>\n",
       "      <td>0</td>\n",
       "      <td>...</td>\n",
       "      <td>3272</td>\n",
       "      <td>3455</td>\n",
       "      <td>3261</td>\n",
       "      <td>0</td>\n",
       "      <td>1000</td>\n",
       "      <td>1000</td>\n",
       "      <td>1000</td>\n",
       "      <td>0</td>\n",
       "      <td>2000</td>\n",
       "      <td>1</td>\n",
       "    </tr>\n",
       "    <tr>\n",
       "      <th>2</th>\n",
       "      <td>90000</td>\n",
       "      <td>2</td>\n",
       "      <td>2</td>\n",
       "      <td>2</td>\n",
       "      <td>34</td>\n",
       "      <td>0</td>\n",
       "      <td>0</td>\n",
       "      <td>0</td>\n",
       "      <td>0</td>\n",
       "      <td>0</td>\n",
       "      <td>...</td>\n",
       "      <td>14331</td>\n",
       "      <td>14948</td>\n",
       "      <td>15549</td>\n",
       "      <td>1518</td>\n",
       "      <td>1500</td>\n",
       "      <td>1000</td>\n",
       "      <td>1000</td>\n",
       "      <td>1000</td>\n",
       "      <td>5000</td>\n",
       "      <td>0</td>\n",
       "    </tr>\n",
       "    <tr>\n",
       "      <th>3</th>\n",
       "      <td>50000</td>\n",
       "      <td>2</td>\n",
       "      <td>2</td>\n",
       "      <td>1</td>\n",
       "      <td>37</td>\n",
       "      <td>0</td>\n",
       "      <td>0</td>\n",
       "      <td>0</td>\n",
       "      <td>0</td>\n",
       "      <td>0</td>\n",
       "      <td>...</td>\n",
       "      <td>28314</td>\n",
       "      <td>28959</td>\n",
       "      <td>29547</td>\n",
       "      <td>2000</td>\n",
       "      <td>2019</td>\n",
       "      <td>1200</td>\n",
       "      <td>1100</td>\n",
       "      <td>1069</td>\n",
       "      <td>1000</td>\n",
       "      <td>0</td>\n",
       "    </tr>\n",
       "    <tr>\n",
       "      <th>4</th>\n",
       "      <td>50000</td>\n",
       "      <td>1</td>\n",
       "      <td>2</td>\n",
       "      <td>1</td>\n",
       "      <td>57</td>\n",
       "      <td>-1</td>\n",
       "      <td>0</td>\n",
       "      <td>-1</td>\n",
       "      <td>0</td>\n",
       "      <td>0</td>\n",
       "      <td>...</td>\n",
       "      <td>20940</td>\n",
       "      <td>19146</td>\n",
       "      <td>19131</td>\n",
       "      <td>2000</td>\n",
       "      <td>36681</td>\n",
       "      <td>10000</td>\n",
       "      <td>9000</td>\n",
       "      <td>689</td>\n",
       "      <td>679</td>\n",
       "      <td>0</td>\n",
       "    </tr>\n",
       "  </tbody>\n",
       "</table>\n",
       "<p>5 rows × 24 columns</p>\n",
       "</div>"
      ],
      "text/plain": [
       "   LIMIT_BAL  SEX  EDUCATION  MARRIAGE  AGE  PAY_0  PAY_2  PAY_3  PAY_4  \\\n",
       "0      20000    2          2         1   24      2      2     -1     -1   \n",
       "1     120000    2          2         2   26     -1      2      0      0   \n",
       "2      90000    2          2         2   34      0      0      0      0   \n",
       "3      50000    2          2         1   37      0      0      0      0   \n",
       "4      50000    1          2         1   57     -1      0     -1      0   \n",
       "\n",
       "   PAY_5  ...  BILL_AMT4  BILL_AMT5  BILL_AMT6  PAY_AMT1  PAY_AMT2  PAY_AMT3  \\\n",
       "0     -2  ...          0          0          0         0       689         0   \n",
       "1      0  ...       3272       3455       3261         0      1000      1000   \n",
       "2      0  ...      14331      14948      15549      1518      1500      1000   \n",
       "3      0  ...      28314      28959      29547      2000      2019      1200   \n",
       "4      0  ...      20940      19146      19131      2000     36681     10000   \n",
       "\n",
       "   PAY_AMT4  PAY_AMT5  PAY_AMT6  Default_Payment  \n",
       "0         0         0         0                1  \n",
       "1      1000         0      2000                1  \n",
       "2      1000      1000      5000                0  \n",
       "3      1100      1069      1000                0  \n",
       "4      9000       689       679                0  \n",
       "\n",
       "[5 rows x 24 columns]"
      ]
     },
     "execution_count": 3,
     "metadata": {},
     "output_type": "execute_result"
    }
   ],
   "source": [
    "#Total Number of Customers\n",
    "\n",
    "Default = pd.read_csv('C:/Users/yuntong/Desktop/Data mining/data/default_of_credit_card_clients.csv', skiprows = 1)\n",
    "\n",
    "Default = Default.iloc[:, 1:]\n",
    "\n",
    "Default = Default.rename(columns={\"default payment next month\": \"Default_Payment\"})\n",
    "\n",
    "print(\"Number of Observations in adult dataset:\", Default.shape)\n",
    "\n",
    "Default.head()"
   ]
  },
  {
   "cell_type": "code",
   "execution_count": 4,
   "id": "d6104960",
   "metadata": {},
   "outputs": [
    {
     "name": "stdout",
     "output_type": "stream",
     "text": [
      "2    18112\n",
      "1    11888\n",
      "Name: SEX, dtype: int64\n",
      "2    60.373333\n",
      "1    39.626667\n",
      "Name: SEX, dtype: float64\n"
     ]
    }
   ],
   "source": [
    "#Most Common Sex in the dataset\n",
    "\n",
    "print(Default['SEX'].value_counts())\n",
    "\n",
    "print(Default['SEX'].value_counts(normalize=True) * 100)"
   ]
  },
  {
   "cell_type": "markdown",
   "id": "ef542242",
   "metadata": {},
   "source": [
    "Most common is female"
   ]
  },
  {
   "cell_type": "markdown",
   "id": "b0627cbb",
   "metadata": {},
   "source": [
    "#### Default by Sex"
   ]
  },
  {
   "cell_type": "code",
   "execution_count": 5,
   "id": "a0e99028",
   "metadata": {},
   "outputs": [
    {
     "name": "stdout",
     "output_type": "stream",
     "text": [
      "2    3763\n",
      "1    2873\n",
      "Name: SEX, dtype: int64\n"
     ]
    },
    {
     "data": {
      "text/plain": [
       "2    56.705847\n",
       "1    43.294153\n",
       "Name: SEX, dtype: float64"
      ]
     },
     "execution_count": 5,
     "metadata": {},
     "output_type": "execute_result"
    }
   ],
   "source": [
    "#Checking which Sex has the most defaults\n",
    "\n",
    "print(Default['SEX'].loc[Default['Default_Payment'] == 1].value_counts())\n",
    "\n",
    "Default['SEX'].loc[Default['Default_Payment'] == 1].value_counts(normalize=True) * 100"
   ]
  },
  {
   "cell_type": "markdown",
   "id": "97c0f188",
   "metadata": {},
   "source": [
    "Females have more defaults than males"
   ]
  },
  {
   "cell_type": "markdown",
   "id": "5e7bb117",
   "metadata": {},
   "source": [
    "#### Marriage is a categorical column, hence figuring out how many levels does this factor have"
   ]
  },
  {
   "cell_type": "code",
   "execution_count": 6,
   "id": "7f6f7cff",
   "metadata": {},
   "outputs": [
    {
     "name": "stdout",
     "output_type": "stream",
     "text": [
      "[1 2 3 0]\n"
     ]
    },
    {
     "data": {
      "text/plain": [
       "2    15964\n",
       "1    13659\n",
       "3      323\n",
       "0       54\n",
       "Name: MARRIAGE, dtype: int64"
      ]
     },
     "execution_count": 6,
     "metadata": {},
     "output_type": "execute_result"
    }
   ],
   "source": [
    "#Distinct Values and their frequency in the marriage column!!!\n",
    "\n",
    "print(Default.MARRIAGE.unique())\n",
    "\n",
    "Default.MARRIAGE.value_counts()"
   ]
  },
  {
   "cell_type": "markdown",
   "id": "d986c159",
   "metadata": {},
   "source": [
    "Marriage has 4 distinct values. Based on the metadata, we convert it into 3."
   ]
  },
  {
   "cell_type": "code",
   "execution_count": 7,
   "id": "a37f9d2c",
   "metadata": {},
   "outputs": [],
   "source": [
    "Default['MARRIAGE'].replace(0, 3, inplace = True)\n",
    "Default['EDUCATION'].replace([0, 5, 6], 4, inplace = True)"
   ]
  },
  {
   "cell_type": "markdown",
   "id": "1f04ea22",
   "metadata": {},
   "source": [
    "#### Visualizations to establish first impressions and correlations"
   ]
  },
  {
   "cell_type": "markdown",
   "id": "7ea371a4",
   "metadata": {},
   "source": [
    "##### Bill Amount 1 Vs. Sex"
   ]
  },
  {
   "cell_type": "code",
   "execution_count": 8,
   "id": "7074c824",
   "metadata": {},
   "outputs": [
    {
     "data": {
      "text/plain": [
       "<AxesSubplot:xlabel='SEX', ylabel='BILL_AMT1'>"
      ]
     },
     "execution_count": 8,
     "metadata": {},
     "output_type": "execute_result"
    },
    {
     "data": {
      "image/png": "[encoded data removed]",
      "text/plain": [
       "<Figure size 1080x576 with 1 Axes>"
      ]
     },
     "metadata": {},
     "output_type": "display_data"
    }
   ],
   "source": [
    "sns.set(rc = {'figure.figsize':(15,8)})\n",
    "sns.boxplot(x=\"SEX\", y=\"BILL_AMT1\", data=Default)"
   ]
  },
  {
   "cell_type": "code",
   "execution_count": 9,
   "id": "af512e22",
   "metadata": {},
   "outputs": [
    {
     "data": {
      "text/plain": [
       "<seaborn.axisgrid.FacetGrid at 0x279577130d0>"
      ]
     },
     "execution_count": 9,
     "metadata": {},
     "output_type": "execute_result"
    },
    {
     "data": {
      "image/png": "[encoded data removed]",
      "text/plain": [
       "<Figure size 720x360 with 2 Axes>"
      ]
     },
     "metadata": {},
     "output_type": "display_data"
    }
   ],
   "source": [
    "sns.displot(Default, x=\"BILL_AMT1\", col=\"SEX\", bins=30)"
   ]
  },
  {
   "cell_type": "markdown",
   "id": "e059175d",
   "metadata": {},
   "source": [
    "##### Visualizing changes in default with age"
   ]
  },
  {
   "cell_type": "code",
   "execution_count": 9,
   "id": "38ed9f10",
   "metadata": {},
   "outputs": [
    {
     "data": {
      "text/plain": [
       "<AxesSubplot:xlabel='Default_Payment', ylabel='AGE'>"
      ]
     },
     "execution_count": 9,
     "metadata": {},
     "output_type": "execute_result"
    },
    {
     "data": {
      "image/png": "[encoded data removed]",
      "text/plain": [
       "<Figure size 1080x576 with 1 Axes>"
      ]
     },
     "metadata": {},
     "output_type": "display_data"
    }
   ],
   "source": [
    "sns.set(rc = {'figure.figsize':(15,8)})\n",
    "sns.boxplot(x=\"Default_Payment\", y=\"AGE\", data=Default)"
   ]
  },
  {
   "cell_type": "code",
   "execution_count": 10,
   "id": "8c190033",
   "metadata": {},
   "outputs": [
    {
     "data": {
      "text/plain": [
       "<seaborn.axisgrid.FacetGrid at 0x27957706c70>"
      ]
     },
     "execution_count": 10,
     "metadata": {},
     "output_type": "execute_result"
    },
    {
     "data": {
      "image/png": "[encoded data removed]",
      "text/plain": [
       "<Figure size 720x360 with 2 Axes>"
      ]
     },
     "metadata": {},
     "output_type": "display_data"
    }
   ],
   "source": [
    "sns.displot(Default, x=\"AGE\", col=\"Default_Payment\")"
   ]
  },
  {
   "cell_type": "code",
   "execution_count": 12,
   "id": "71d7abb0",
   "metadata": {},
   "outputs": [
    {
     "data": {
      "text/plain": [
       "<seaborn.axisgrid.FacetGrid at 0x27959a5fdc0>"
      ]
     },
     "execution_count": 12,
     "metadata": {},
     "output_type": "execute_result"
    },
    {
     "data": {
      "image/png": "[encoded data removed]",
      "text/plain": [
       "<Figure size 360x360 with 1 Axes>"
      ]
     },
     "metadata": {},
     "output_type": "display_data"
    }
   ],
   "source": [
    "sns.lmplot(x='AGE', y='Default_Payment', data = Default, logistic=True, x_bins=np.arange(20,80, 5))"
   ]
  },
  {
   "cell_type": "markdown",
   "id": "15d2a047",
   "metadata": {},
   "source": [
    "There appears to be no relationship between default and AGE"
   ]
  },
  {
   "cell_type": "markdown",
   "id": "e74c49df",
   "metadata": {},
   "source": [
    "### Machine Learning Models"
   ]
  },
  {
   "cell_type": "markdown",
   "id": "4ebfaf08",
   "metadata": {},
   "source": [
    "### KNN Model"
   ]
  },
  {
   "cell_type": "code",
   "execution_count": 12,
   "id": "1151af7f",
   "metadata": {},
   "outputs": [],
   "source": [
    "X = Default.drop(\"Default_Payment\", axis=1)\n",
    "X = X.values\n",
    "Y = Default[\"Default_Payment\"]\n",
    "y = Y.values"
   ]
  },
  {
   "cell_type": "code",
   "execution_count": 13,
   "id": "5e478397",
   "metadata": {},
   "outputs": [],
   "source": [
    "from sklearn.model_selection import train_test_split\n",
    "X_train, X_test, y_train, y_test = train_test_split(X, y, test_size=0.3, random_state=100)"
   ]
  },
  {
   "cell_type": "code",
   "execution_count": 14,
   "id": "b99da146",
   "metadata": {},
   "outputs": [],
   "source": [
    "from sklearn.model_selection import train_test_split\n",
    "from sklearn.linear_model import LogisticRegression\n",
    "from sklearn.ensemble import RandomForestClassifier\n",
    "from sklearn.neighbors import KNeighborsClassifier\n",
    "from sklearn.naive_bayes import GaussianNB\n",
    "from sklearn.tree import DecisionTreeClassifier\n",
    "from sklearn.neural_network import MLPClassifier\n",
    "from tqdm import tqdm\n",
    "from sklearn.metrics import make_scorer, accuracy_score\n",
    "from sklearn.model_selection import GridSearchCV"
   ]
  },
  {
   "cell_type": "code",
   "execution_count": 15,
   "id": "ded92ab7",
   "metadata": {},
   "outputs": [
    {
     "data": {
      "text/plain": [
       "KNeighborsClassifier(n_neighbors=8)"
      ]
     },
     "execution_count": 15,
     "metadata": {},
     "output_type": "execute_result"
    }
   ],
   "source": [
    "knn = KNeighborsClassifier()\n",
    "knn_parameters = {'n_neighbors': range(5,10),\n",
    "                 }\n",
    "\n",
    "acc_scorer = make_scorer(accuracy_score)\n",
    "\n",
    "grid_obj = GridSearchCV(knn, knn_parameters, cv = 10, scoring = acc_scorer)\n",
    "grid_obj = grid_obj.fit(X_train, y_train)\n",
    "\n",
    "knn = grid_obj.best_estimator_\n",
    "\n",
    "knn.fit(X_train, y_train)"
   ]
  },
  {
   "cell_type": "markdown",
   "id": "ee9b6c70",
   "metadata": {},
   "source": [
    "We use GridSearchCV to systematically traverse multiple parameter combinations and finally determine the best effect parameters through cross validation.\n",
    "We decided to choose k = 8."
   ]
  },
  {
   "cell_type": "markdown",
   "id": "da69df8a",
   "metadata": {},
   "source": [
    "<font color = blue>Q3.2 Score the validation data (predict) using the model. Produce a confusion table and an ROC for the scored validation data. </font>"
   ]
  },
  {
   "cell_type": "code",
   "execution_count": 16,
   "id": "69dee2ce",
   "metadata": {},
   "outputs": [
    {
     "data": {
      "text/plain": [
       "80.0"
      ]
     },
     "execution_count": 16,
     "metadata": {},
     "output_type": "execute_result"
    }
   ],
   "source": [
    "knn_predict = knn.predict(X_test)\n",
    "round(knn.score(X_train, y_train) * 100, 2)"
   ]
  },
  {
   "cell_type": "code",
   "execution_count": 17,
   "id": "73e696b1",
   "metadata": {},
   "outputs": [
    {
     "name": "stdout",
     "output_type": "stream",
     "text": [
      "[[6687  240]\n",
      " [1888  185]]\n",
      "\n",
      "True Positives(TP) =  6687\n",
      "\n",
      "True Negatives(TN) =  185\n",
      "\n",
      "False Positives(FP) =  240\n",
      "\n",
      "False Negatives(FN) =  1888\n",
      "              precision    recall  f1-score   support\n",
      "\n",
      "           0       0.78      0.97      0.86      6927\n",
      "           1       0.44      0.09      0.15      2073\n",
      "\n",
      "    accuracy                           0.76      9000\n",
      "   macro avg       0.61      0.53      0.51      9000\n",
      "weighted avg       0.70      0.76      0.70      9000\n",
      "\n"
     ]
    }
   ],
   "source": [
    "from sklearn.metrics import confusion_matrix\n",
    "\n",
    "cm_knn = confusion_matrix(y_test, knn_predict)\n",
    "\n",
    "print(cm_knn)\n",
    "\n",
    "print('\\nTrue Positives(TP) = ', cm_knn[0,0])\n",
    "\n",
    "print('\\nTrue Negatives(TN) = ', cm_knn[1,1])\n",
    "\n",
    "print('\\nFalse Positives(FP) = ', cm_knn[0,1])\n",
    "\n",
    "print('\\nFalse Negatives(FN) = ', cm_knn[1,0])\n",
    "\n",
    "from sklearn.metrics import classification_report\n",
    "\n",
    "print(classification_report(y_test, knn_predict))\n"
   ]
  },
  {
   "cell_type": "code",
   "execution_count": 18,
   "id": "ed1c5704",
   "metadata": {},
   "outputs": [
    {
     "data": {
      "image/png": "[encoded data removed]",
      "text/plain": [
       "<Figure size 1080x576 with 2 Axes>"
      ]
     },
     "metadata": {},
     "output_type": "display_data"
    }
   ],
   "source": [
    "from sklearn.metrics import confusion_matrix, ConfusionMatrixDisplay\n",
    "disp = ConfusionMatrixDisplay(confusion_matrix=cm_knn, display_labels=knn.classes_)\n",
    "disp.plot()\n",
    "plt.show()"
   ]
  },
  {
   "cell_type": "code",
   "execution_count": 19,
   "id": "f793eb8b",
   "metadata": {},
   "outputs": [
    {
     "name": "stdout",
     "output_type": "stream",
     "text": [
      "ROC AUC : 0.6304\n"
     ]
    },
    {
     "data": {
      "image/png": "[encoded data removed]",
      "text/plain": [
       "<Figure size 432x288 with 1 Axes>"
      ]
     },
     "metadata": {},
     "output_type": "display_data"
    }
   ],
   "source": [
    "from sklearn.metrics import roc_auc_score\n",
    "\n",
    "y_prob_pred = knn.predict_proba(X_test)[:, 1]\n",
    "\n",
    "ROC_AUC = roc_auc_score(y_test, y_prob_pred)\n",
    "\n",
    "print('ROC AUC : {:.4f}'.format(ROC_AUC))\n",
    "\n",
    "from sklearn.metrics import roc_curve\n",
    "\n",
    "fpr, tpr, thresholds = roc_curve(y_test, y_prob_pred)\n",
    "\n",
    "plt.figure(figsize=(6,4))\n",
    "\n",
    "plt.plot(fpr, tpr, linewidth=2)\n",
    "\n",
    "plt.plot([0,1], [0,1], 'k--' )\n",
    "\n",
    "plt.rcParams['font.size'] = 12\n",
    "\n",
    "plt.title('ROC curve for KNN')\n",
    "\n",
    "plt.xlabel('False Positive Rate (1 - Specificity)')\n",
    "\n",
    "plt.ylabel('True Positive Rate (Sensitivity)')\n",
    "\n",
    "plt.show()"
   ]
  },
  {
   "cell_type": "markdown",
   "id": "a2be803c",
   "metadata": {},
   "source": [
    "#### Calculating Metrics from the Confusion Table"
   ]
  },
  {
   "cell_type": "code",
   "execution_count": 20,
   "id": "af45f3fd",
   "metadata": {},
   "outputs": [
    {
     "name": "stdout",
     "output_type": "stream",
     "text": [
      "Accuracy :  0.7635555555555555\n",
      "Precision :  0.7798250728862973\n",
      "Misclassification :  0.23644444444444446\n",
      "Sensitivity/True Positive Rate :  0.7798250728862973\n",
      "1-specificity/False Positive Rate :  0.5647058823529412\n",
      "Prevalence :  0.743\n"
     ]
    }
   ],
   "source": [
    "total1=sum(sum(cm_knn))\n",
    "#####from confusion matrix calculate accuracy\n",
    "accuracy1=(cm_knn[0,0]+cm_knn[1,1])/total1\n",
    "print ('Accuracy : ', accuracy1)\n",
    "\n",
    "precision1=(cm_knn[0,0])/(cm_knn[0,0] + cm_knn[1,0])\n",
    "print ('Precision : ', precision1)\n",
    "            \n",
    "print ('Misclassification : ', 1-accuracy1)\n",
    "\n",
    "sensitivity1 = cm_knn[0,0]/(cm_knn[0,0]+cm_knn[1,0])\n",
    "print('Sensitivity/True Positive Rate : ', sensitivity1)\n",
    "\n",
    "specificity1 = 1-(cm_knn[1,1]/(cm_knn[0,1]+cm_knn[1,1]))\n",
    "print('1-specificity/False Positive Rate : ', specificity1)\n",
    "\n",
    "prevalence1 = (cm_knn[0,0])/total1\n",
    "print('Prevalence : ', prevalence1)"
   ]
  },
  {
   "cell_type": "markdown",
   "id": "5697dd29",
   "metadata": {},
   "source": [
    "### K-Means Clustering"
   ]
  },
  {
   "cell_type": "markdown",
   "id": "9f4fd6fb",
   "metadata": {},
   "source": [
    "Two steps :\n",
    "    1. Create clusters based on age using K-Means Clustering,\n",
    "    2. Use KNN to classify each of those separate clusters"
   ]
  },
  {
   "cell_type": "code",
   "execution_count": 21,
   "id": "6571a8f8",
   "metadata": {},
   "outputs": [],
   "source": [
    "X_2 = Default.loc[:,[\"AGE\"]].values"
   ]
  },
  {
   "cell_type": "code",
   "execution_count": 22,
   "id": "975a0b8c",
   "metadata": {},
   "outputs": [
    {
     "data": {
      "image/png": "[encoded data removed]",
      "text/plain": [
       "<Figure size 864x432 with 1 Axes>"
      ]
     },
     "metadata": {},
     "output_type": "display_data"
    }
   ],
   "source": [
    "from sklearn.cluster import KMeans\n",
    "\n",
    "age_ss = []\n",
    "\n",
    "for k in range(1,8):\n",
    "\n",
    "    kmeans = KMeans(n_clusters=k, init='k-means++')\n",
    "\n",
    "    kmeans.fit(X_2)\n",
    "\n",
    "    age_ss.append(kmeans.inertia_)\n",
    "\n",
    "\n",
    "\n",
    "plt.figure(figsize=(12,6))\n",
    "\n",
    "plt.grid()\n",
    "\n",
    "plt.plot(range(1,8),age_ss,linewidth = 2, color = \"red\", marker = \"8\")\n",
    "\n",
    "plt.xlabel('K Values')\n",
    "\n",
    "plt.ylabel(\"K_Inertia\")\n",
    "\n",
    "plt.show()"
   ]
  },
  {
   "cell_type": "markdown",
   "id": "feb96dd5",
   "metadata": {},
   "source": [
    "From the elbow curve it's evident that after K=3, the reduction in distance greatly decreases, hence we'll set K=3, i.e number of clusters = 3"
   ]
  },
  {
   "cell_type": "markdown",
   "id": "f1d68c01",
   "metadata": {},
   "source": [
    "### We'll now build a KNN model for all the 3 clusters"
   ]
  },
  {
   "cell_type": "code",
   "execution_count": 23,
   "id": "ab6d3e36",
   "metadata": {},
   "outputs": [],
   "source": [
    "kmeans = KMeans(n_clusters=3)\n",
    "\n",
    "label = kmeans.fit_predict(X_2)\n",
    "\n"
   ]
  },
  {
   "cell_type": "code",
   "execution_count": 31,
   "id": "81186820",
   "metadata": {},
   "outputs": [],
   "source": [
    "Default2 = Default\n",
    "\n",
    "Default2[\"Cluster\"] = label\n",
    "\n",
    "Cluster1 = Default2[Default2[\"Cluster\"] == 0]\n",
    "Cluster1 = Cluster1.drop(\"Cluster\", axis=1)\n",
    "\n",
    "Cluster2 = Default2[Default2[\"Cluster\"] == 1]\n",
    "Cluster2 = Cluster2.drop(\"Cluster\", axis=1)\n",
    "\n",
    "Cluster3 = Default2[Default2[\"Cluster\"] == 2]\n",
    "Cluster3 = Cluster3.drop(\"Cluster\", axis=1)"
   ]
  },
  {
   "cell_type": "code",
   "execution_count": 32,
   "id": "2977d2d5",
   "metadata": {},
   "outputs": [],
   "source": [
    "X1 = Cluster1.drop(\"Default_Payment\", axis=1)\n",
    "X1 = X1.values\n",
    "Y1 = Cluster1[\"Default_Payment\"]\n",
    "y1 = Y1.values\n",
    "\n",
    "X2 = Cluster2.drop(\"Default_Payment\", axis=1)\n",
    "X2 = X2.values\n",
    "Y2 = Cluster2[\"Default_Payment\"]\n",
    "y2 = Y2.values\n",
    "\n",
    "X3 = Cluster3.drop(\"Default_Payment\", axis=1)\n",
    "X3 = X3.values\n",
    "Y3 = Cluster3[\"Default_Payment\"]\n",
    "y3 = Y3.values"
   ]
  },
  {
   "cell_type": "code",
   "execution_count": 33,
   "id": "7149aa0b",
   "metadata": {},
   "outputs": [],
   "source": [
    "X_train1, X_test1, y_train1, y_test1 = train_test_split(X1, y1, test_size=0.3, random_state=100)\n",
    "X_train2, X_test2, y_train2, y_test2 = train_test_split(X2, y2, test_size=0.3, random_state=100)\n",
    "X_train3, X_test3, y_train3, y_test3 = train_test_split(X3, y3, test_size=0.3, random_state=100)"
   ]
  },
  {
   "cell_type": "code",
   "execution_count": 34,
   "id": "a0564d96",
   "metadata": {},
   "outputs": [
    {
     "data": {
      "text/plain": [
       "KNeighborsClassifier(n_neighbors=8)"
      ]
     },
     "execution_count": 34,
     "metadata": {},
     "output_type": "execute_result"
    }
   ],
   "source": [
    "knn1 = KNeighborsClassifier()\n",
    "knn1_parameters = {'n_neighbors': range(5,10),\n",
    "                 }\n",
    "\n",
    "acc_scorer1 = make_scorer(accuracy_score)\n",
    "\n",
    "grid_obj1 = GridSearchCV(knn1, knn1_parameters, cv = 10, scoring = acc_scorer1)\n",
    "grid_obj1 = grid_obj1.fit(X_train1, y_train1)\n",
    "\n",
    "knn1 = grid_obj1.best_estimator_\n",
    "\n",
    "knn1.fit(X_train1, y_train1)"
   ]
  },
  {
   "cell_type": "code",
   "execution_count": 35,
   "id": "ac883ef7",
   "metadata": {},
   "outputs": [
    {
     "data": {
      "text/plain": [
       "KNeighborsClassifier(n_neighbors=8)"
      ]
     },
     "execution_count": 35,
     "metadata": {},
     "output_type": "execute_result"
    }
   ],
   "source": [
    "knn2 = KNeighborsClassifier()\n",
    "knn2_parameters = {'n_neighbors': range(5,10),\n",
    "                 }\n",
    "\n",
    "acc_scorer2 = make_scorer(accuracy_score)\n",
    "\n",
    "grid_obj2 = GridSearchCV(knn2, knn2_parameters, cv = 10, scoring = acc_scorer2)\n",
    "grid_obj2 = grid_obj2.fit(X_train2, y_train2)\n",
    "\n",
    "knn2 = grid_obj2.best_estimator_\n",
    "\n",
    "knn2.fit(X_train2, y_train2)"
   ]
  },
  {
   "cell_type": "code",
   "execution_count": 36,
   "id": "599b8c0f",
   "metadata": {},
   "outputs": [
    {
     "data": {
      "text/plain": [
       "KNeighborsClassifier(n_neighbors=6)"
      ]
     },
     "execution_count": 36,
     "metadata": {},
     "output_type": "execute_result"
    }
   ],
   "source": [
    "knn3 = KNeighborsClassifier()\n",
    "knn3_parameters = {'n_neighbors': range(5,10),\n",
    "                 }\n",
    "\n",
    "acc_scorer3 = make_scorer(accuracy_score)\n",
    "\n",
    "grid_obj3 = GridSearchCV(knn3, knn3_parameters, cv = 10, scoring = acc_scorer3)\n",
    "grid_obj3 = grid_obj3.fit(X_train3, y_train3)\n",
    "\n",
    "knn3 = grid_obj3.best_estimator_\n",
    "\n",
    "knn3.fit(X_train3, y_train3)"
   ]
  },
  {
   "cell_type": "markdown",
   "id": "55760097",
   "metadata": {},
   "source": [
    "We use GridSearchCV to systematically traverse multiple parameter combinations and finally determine the best effect parameters through cross validation.\n",
    "For cluster1, we choose k = 8;\n",
    "for cluster2, we choose k = 8;\n",
    "for cluster3, we choose k = 6."
   ]
  },
  {
   "cell_type": "code",
   "execution_count": 37,
   "id": "2c3941f8",
   "metadata": {},
   "outputs": [
    {
     "name": "stdout",
     "output_type": "stream",
     "text": [
      "77.97\n"
     ]
    }
   ],
   "source": [
    "knn_predict1 = knn1.predict(X_test1)\n",
    "print(round(knn1.score(X_train1, y_train1) * 100, 2))"
   ]
  },
  {
   "cell_type": "code",
   "execution_count": 38,
   "id": "509d583a",
   "metadata": {},
   "outputs": [
    {
     "name": "stdout",
     "output_type": "stream",
     "text": [
      "79.88\n"
     ]
    }
   ],
   "source": [
    "knn_predict2 = knn2.predict(X_test2)\n",
    "print(round(knn2.score(X_train2, y_train2) * 100, 2))"
   ]
  },
  {
   "cell_type": "code",
   "execution_count": 46,
   "id": "a032a5d5",
   "metadata": {},
   "outputs": [
    {
     "name": "stdout",
     "output_type": "stream",
     "text": [
      "80.93\n"
     ]
    }
   ],
   "source": [
    "knn_predict3 = knn3.predict(X_test3)\n",
    "print(round(knn3.score(X_train3, y_train3) * 100, 2))"
   ]
  },
  {
   "cell_type": "code",
   "execution_count": 47,
   "id": "8f5fb41d",
   "metadata": {},
   "outputs": [
    {
     "name": "stdout",
     "output_type": "stream",
     "text": [
      "Confusion matrix_1\n",
      "\n",
      " [[1117   67]\n",
      " [ 364   38]]\n",
      "\n",
      "True Positives(TP) =  1117\n",
      "\n",
      "True Negatives(TN) =  38\n",
      "\n",
      "False Positives(FP) =  67\n",
      "\n",
      "False Negatives(FN) =  364\n",
      "              precision    recall  f1-score   support\n",
      "\n",
      "           0       0.75      0.94      0.84      1184\n",
      "           1       0.36      0.09      0.15       402\n",
      "\n",
      "    accuracy                           0.73      1586\n",
      "   macro avg       0.56      0.52      0.49      1586\n",
      "weighted avg       0.65      0.73      0.66      1586\n",
      "\n"
     ]
    }
   ],
   "source": [
    "cm_knn1 = confusion_matrix(y_test1, knn_predict1)\n",
    "\n",
    "print('Confusion matrix_1\\n\\n', cm_knn1)\n",
    "\n",
    "print('\\nTrue Positives(TP) = ', cm_knn1[0,0])\n",
    "\n",
    "print('\\nTrue Negatives(TN) = ', cm_knn1[1,1])\n",
    "\n",
    "print('\\nFalse Positives(FP) = ', cm_knn1[0,1])\n",
    "\n",
    "print('\\nFalse Negatives(FN) = ', cm_knn1[1,0])\n",
    "\n",
    "print(classification_report(y_test1, knn_predict1))\n"
   ]
  },
  {
   "cell_type": "code",
   "execution_count": 48,
   "id": "9b1799ba",
   "metadata": {},
   "outputs": [
    {
     "name": "stdout",
     "output_type": "stream",
     "text": [
      "Confusion matrix_2\n",
      "\n",
      " [[3016   94]\n",
      " [ 826   81]]\n",
      "\n",
      "True Positives(TP) =  3016\n",
      "\n",
      "True Negatives(TN) =  81\n",
      "\n",
      "False Positives(FP) =  94\n",
      "\n",
      "False Negatives(FN) =  826\n",
      "              precision    recall  f1-score   support\n",
      "\n",
      "           0       0.79      0.97      0.87      3110\n",
      "           1       0.46      0.09      0.15       907\n",
      "\n",
      "    accuracy                           0.77      4017\n",
      "   macro avg       0.62      0.53      0.51      4017\n",
      "weighted avg       0.71      0.77      0.71      4017\n",
      "\n"
     ]
    }
   ],
   "source": [
    "cm_knn2 = confusion_matrix(y_test2, knn_predict2)\n",
    "\n",
    "print('Confusion matrix_2\\n\\n', cm_knn2)\n",
    "\n",
    "print('\\nTrue Positives(TP) = ', cm_knn2[0,0])\n",
    "\n",
    "print('\\nTrue Negatives(TN) = ', cm_knn2[1,1])\n",
    "\n",
    "print('\\nFalse Positives(FP) = ', cm_knn2[0,1])\n",
    "\n",
    "print('\\nFalse Negatives(FN) = ', cm_knn2[1,0])\n",
    "\n",
    "print(classification_report(y_test2, knn_predict2))\n"
   ]
  },
  {
   "cell_type": "code",
   "execution_count": 52,
   "id": "8d5e6320",
   "metadata": {},
   "outputs": [
    {
     "name": "stdout",
     "output_type": "stream",
     "text": [
      "Confusion matrix_3\n",
      "\n",
      " [[2602  110]\n",
      " [ 611   75]]\n",
      "\n",
      "True Positives(TP) =  2602\n",
      "\n",
      "True Negatives(TN) =  75\n",
      "\n",
      "False Positives(FP) =  110\n",
      "\n",
      "False Negatives(FN) =  611\n",
      "              precision    recall  f1-score   support\n",
      "\n",
      "           0       0.81      0.96      0.88      2712\n",
      "           1       0.41      0.11      0.17       686\n",
      "\n",
      "    accuracy                           0.79      3398\n",
      "   macro avg       0.61      0.53      0.53      3398\n",
      "weighted avg       0.73      0.79      0.74      3398\n",
      "\n"
     ]
    }
   ],
   "source": [
    "cm_knn3 = confusion_matrix(y_test3, knn_predict3)\n",
    "\n",
    "print('Confusion matrix_3\\n\\n', cm_knn3)\n",
    "\n",
    "print('\\nTrue Positives(TP) = ', cm_knn3[0,0])\n",
    "\n",
    "print('\\nTrue Negatives(TN) = ', cm_knn3[1,1])\n",
    "\n",
    "print('\\nFalse Positives(FP) = ', cm_knn3[0,1])\n",
    "\n",
    "print('\\nFalse Negatives(FN) = ', cm_knn3[1,0])\n",
    "\n",
    "print(classification_report(y_test3, knn_predict3))"
   ]
  },
  {
   "cell_type": "code",
   "execution_count": 54,
   "id": "b4f5d6c7",
   "metadata": {},
   "outputs": [
    {
     "name": "stdout",
     "output_type": "stream",
     "text": [
      "Accuracy :  0.7282471626733922\n",
      "Precision :  0.7542201215395004\n",
      "Misclassification :  0.2717528373266078\n",
      "Sensitivity/True Positive Rate :  0.7542201215395004\n",
      "1-Specificity/False Positive Rate :  0.638095238095238\n",
      "Prevalence :  0.7042875157629256\n"
     ]
    }
   ],
   "source": [
    "Total2=sum(sum(cm_knn1))\n",
    "Accuracy2=(cm_knn1[0,0]+cm_knn1[1,1])/Total2\n",
    "print ('Accuracy : ', Accuracy2)\n",
    "\n",
    "Precision2=(cm_knn1[0,0])/(cm_knn1[0,0] + cm_knn1[1,0])\n",
    "print ('Precision : ', Precision2)\n",
    "            \n",
    "print ('Misclassification : ', 1-Accuracy2)\n",
    "\n",
    "Sensitivity2 = cm_knn1[0,0]/(cm_knn1[0,0]+cm_knn1[1,0])\n",
    "print('Sensitivity/True Positive Rate : ', Sensitivity2)\n",
    "\n",
    "Specificity2 = cm_knn1[0,1]/(cm_knn1[0,1]+cm_knn1[1,1])\n",
    "print('1-Specificity/False Positive Rate : ', Specificity2)\n",
    "\n",
    "Prevalence2 = (cm_knn1[0,0])/Total2\n",
    "print('Prevalence : ', Prevalence2)"
   ]
  },
  {
   "cell_type": "code",
   "execution_count": 55,
   "id": "ad5ed69a",
   "metadata": {},
   "outputs": [
    {
     "name": "stdout",
     "output_type": "stream",
     "text": [
      "Accuracy :  0.7709733632063729\n",
      "Precision :  0.7850078084331078\n",
      "Misclassification :  0.22902663679362711\n",
      "Sensitivity/True Positive Rate :  0.7850078084331078\n",
      "1-Specificity/False Positive Rate :  0.5371428571428571\n",
      "Prevalence :  0.7508090614886731\n"
     ]
    }
   ],
   "source": [
    "Total3=sum(sum(cm_knn2))\n",
    "Accuracy3=(cm_knn2[0,0]+cm_knn2[1,1])/Total3\n",
    "print ('Accuracy : ', Accuracy3)\n",
    "\n",
    "Precision3=(cm_knn2[0,0])/(cm_knn2[0,0] + cm_knn2[1,0])\n",
    "print ('Precision : ', Precision3)\n",
    "            \n",
    "print ('Misclassification : ', 1-Accuracy3)\n",
    "\n",
    "Sensitivity3 = cm_knn2[0,0]/(cm_knn2[0,0]+cm_knn2[1,0])\n",
    "print('Sensitivity/True Positive Rate : ', Sensitivity3)\n",
    "\n",
    "Specificity3 = cm_knn2[0,1]/(cm_knn2[0,1]+cm_knn2[1,1])\n",
    "print('1-Specificity/False Positive Rate : ', Specificity3)\n",
    "\n",
    "Prevalence3 = (cm_knn2[0,0])/Total3\n",
    "print('Prevalence : ', Prevalence3)"
   ]
  },
  {
   "cell_type": "code",
   "execution_count": 56,
   "id": "27ca6c6a",
   "metadata": {},
   "outputs": [
    {
     "name": "stdout",
     "output_type": "stream",
     "text": [
      "Accuracy :  0.7878163625662155\n",
      "Precision :  0.8098350451291628\n",
      "Misclassification :  0.21218363743378454\n",
      "Sensitivity/True Positive Rate :  0.8098350451291628\n",
      "1-Specificity/False Positive Rate :  0.5945945945945946\n",
      "Prevalence :  0.7657445556209534\n"
     ]
    }
   ],
   "source": [
    "Total4=sum(sum(cm_knn3))\n",
    "Accuracy4=(cm_knn3[0,0]+cm_knn3[1,1])/Total4\n",
    "print ('Accuracy : ', Accuracy4)\n",
    "\n",
    "Precision4=(cm_knn3[0,0])/(cm_knn3[0,0] + cm_knn3[1,0])\n",
    "print ('Precision : ', Precision4)\n",
    "            \n",
    "print ('Misclassification : ', 1-Accuracy4)\n",
    "\n",
    "Sensitivity4 = cm_knn3[0,0]/(cm_knn3[0,0]+cm_knn3[1,0])\n",
    "print('Sensitivity/True Positive Rate : ', Sensitivity4)\n",
    "\n",
    "Specificity4 = cm_knn3[0,1]/(cm_knn3[0,1]+cm_knn3[1,1])\n",
    "print('1-Specificity/False Positive Rate : ', Specificity4)\n",
    "\n",
    "Prevalence4 = (cm_knn3[0,0])/Total4\n",
    "print('Prevalence : ', Prevalence4)"
   ]
  },
  {
   "cell_type": "markdown",
   "id": "c4f4c76c",
   "metadata": {},
   "source": [
    "### ROC and AUC Curves"
   ]
  },
  {
   "cell_type": "code",
   "execution_count": 57,
   "id": "f5f51248",
   "metadata": {},
   "outputs": [
    {
     "name": "stdout",
     "output_type": "stream",
     "text": [
      "ROC AUC : 0.5943\n"
     ]
    },
    {
     "data": {
      "image/png": "[encoded data removed]",
      "text/plain": [
       "<Figure size 432x288 with 1 Axes>"
      ]
     },
     "metadata": {},
     "output_type": "display_data"
    }
   ],
   "source": [
    "y_prob_pred1 = knn1.predict_proba(X_test1)[:, 1]\n",
    "\n",
    "ROC_AUC1 = roc_auc_score(y_test1, y_prob_pred1)\n",
    "\n",
    "print('ROC AUC : {:.4f}'.format(ROC_AUC1))\n",
    "\n",
    "fpr1, tpr1, thresholds1 = roc_curve(y_test1, y_prob_pred1)\n",
    "\n",
    "plt.figure(figsize=(6,4))\n",
    "\n",
    "plt.plot(fpr1, tpr1, linewidth=2)\n",
    "\n",
    "plt.plot([0,1], [0,1], 'k--' )\n",
    "\n",
    "plt.rcParams['font.size'] = 12\n",
    "\n",
    "plt.title('ROC curve for KNN')\n",
    "\n",
    "plt.xlabel('False Positive Rate (1 - Specificity)')\n",
    "\n",
    "plt.ylabel('True Positive Rate (Sensitivity)')\n",
    "\n",
    "plt.show()"
   ]
  },
  {
   "cell_type": "code",
   "execution_count": 58,
   "id": "b06dc870",
   "metadata": {},
   "outputs": [
    {
     "name": "stdout",
     "output_type": "stream",
     "text": [
      "ROC AUC : 0.6215\n"
     ]
    },
    {
     "data": {
      "image/png": "[encoded data removed]",
      "text/plain": [
       "<Figure size 432x288 with 1 Axes>"
      ]
     },
     "metadata": {},
     "output_type": "display_data"
    }
   ],
   "source": [
    "y_prob_pred2 = knn2.predict_proba(X_test2)[:, 1]\n",
    "\n",
    "ROC_AUC2 = roc_auc_score(y_test2, y_prob_pred2)\n",
    "\n",
    "print('ROC AUC : {:.4f}'.format(ROC_AUC2))\n",
    "\n",
    "fpr2, tpr2, thresholds2 = roc_curve(y_test2, y_prob_pred2)\n",
    "\n",
    "plt.figure(figsize=(6,4))\n",
    "\n",
    "plt.plot(fpr2, tpr2, linewidth=2)\n",
    "\n",
    "plt.plot([0,1], [0,1], 'k--' )\n",
    "\n",
    "plt.rcParams['font.size'] = 12\n",
    "\n",
    "plt.title('ROC curve for KNN')\n",
    "\n",
    "plt.xlabel('False Positive Rate (1 - Specificity)')\n",
    "\n",
    "plt.ylabel('True Positive Rate (Sensitivity)')\n",
    "\n",
    "plt.show()"
   ]
  },
  {
   "cell_type": "code",
   "execution_count": 59,
   "id": "20806ba6",
   "metadata": {},
   "outputs": [
    {
     "name": "stdout",
     "output_type": "stream",
     "text": [
      "ROC AUC : 0.6104\n"
     ]
    },
    {
     "data": {
      "image/png": "[encoded data removed]",
      "text/plain": [
       "<Figure size 432x288 with 1 Axes>"
      ]
     },
     "metadata": {},
     "output_type": "display_data"
    }
   ],
   "source": [
    "y_prob_pred3 = knn3.predict_proba(X_test3)[:, 1]\n",
    "\n",
    "ROC_AUC3 = roc_auc_score(y_test3, y_prob_pred3)\n",
    "\n",
    "print('ROC AUC : {:.4f}'.format(ROC_AUC3))\n",
    "\n",
    "fpr3, tpr3, thresholds3 = roc_curve(y_test3, y_prob_pred3)\n",
    "\n",
    "plt.figure(figsize=(6,4))\n",
    "\n",
    "plt.plot(fpr3, tpr3, linewidth=2)\n",
    "\n",
    "plt.plot([0,1], [0,1], 'k--' )\n",
    "\n",
    "plt.rcParams['font.size'] = 12\n",
    "\n",
    "plt.title('ROC curve for KNN')\n",
    "\n",
    "plt.xlabel('False Positive Rate (1 - Specificity)')\n",
    "\n",
    "plt.ylabel('True Positive Rate (Sensitivity)')\n",
    "\n",
    "plt.show()"
   ]
  },
  {
   "cell_type": "markdown",
   "id": "3f8f1f1a",
   "metadata": {},
   "source": [
    "Cluster 3 had a better classification matrix than the regular knn. Accuracy was higher, precision was higher, and while sensitivity was just a little lower it had a higher specificity"
   ]
  },
  {
   "cell_type": "markdown",
   "id": "6a1a5f60",
   "metadata": {},
   "source": [
    "### Neural Network"
   ]
  },
  {
   "cell_type": "markdown",
   "id": "2944cea8",
   "metadata": {},
   "source": [
    "Building model using Artificial Neural Network"
   ]
  },
  {
   "cell_type": "code",
   "execution_count": 61,
   "id": "7799a07f",
   "metadata": {},
   "outputs": [
    {
     "data": {
      "text/plain": [
       "MLPClassifier()"
      ]
     },
     "execution_count": 61,
     "metadata": {},
     "output_type": "execute_result"
    }
   ],
   "source": [
    "X_train5, X_test5, y_train5, y_test5 = train_test_split(X, y, test_size=0.3, random_state=100)\n",
    "\n",
    "from sklearn.neural_network import MLPClassifier\n",
    "ann = MLPClassifier()\n",
    "ann_parameters = {'hidden_layer_sizes': [(100,1), (100,2), (100,3)],\n",
    "                  'alpha': [.0001, .001, .01, .1, 1],\n",
    "                 }\n",
    "\n",
    "acc_scorer5 = make_scorer(accuracy_score)\n",
    "\n",
    "ann.fit(X_train5, y_train5)"
   ]
  },
  {
   "cell_type": "code",
   "execution_count": 62,
   "id": "e3ba0e74",
   "metadata": {},
   "outputs": [
    {
     "name": "stdout",
     "output_type": "stream",
     "text": [
      "[[4441 2486]\n",
      " [ 768 1305]]\n",
      "              precision    recall  f1-score   support\n",
      "\n",
      "           0       0.85      0.64      0.73      6927\n",
      "           1       0.34      0.63      0.45      2073\n",
      "\n",
      "    accuracy                           0.64      9000\n",
      "   macro avg       0.60      0.64      0.59      9000\n",
      "weighted avg       0.74      0.64      0.67      9000\n",
      "\n"
     ]
    }
   ],
   "source": [
    "predictions = ann.predict(X_test5)\n",
    "\n",
    "cm_ann = confusion_matrix(y_test5,predictions)\n",
    "\n",
    "print(confusion_matrix(y_test5,predictions))\n",
    "print(classification_report(y_test5,predictions))"
   ]
  },
  {
   "cell_type": "code",
   "execution_count": 63,
   "id": "b39eb900",
   "metadata": {},
   "outputs": [
    {
     "name": "stdout",
     "output_type": "stream",
     "text": [
      "ROC AUC : 0.6718\n"
     ]
    },
    {
     "data": {
      "image/png": "[encoded data removed]",
      "text/plain": [
       "<Figure size 432x288 with 1 Axes>"
      ]
     },
     "metadata": {},
     "output_type": "display_data"
    }
   ],
   "source": [
    "y_prob_pred4 = ann.predict_proba(X_test5)[:, 1]\n",
    "\n",
    "ROC_AUC4 = roc_auc_score(y_test5, y_prob_pred4)\n",
    "\n",
    "print('ROC AUC : {:.4f}'.format(ROC_AUC4))\n",
    "\n",
    "fpr4, tpr4, thresholds4 = roc_curve(y_test5, y_prob_pred4)\n",
    "\n",
    "plt.figure(figsize=(6,4))\n",
    "\n",
    "plt.plot(fpr4, tpr4, linewidth=2)\n",
    "\n",
    "plt.plot([0,1], [0,1], 'k--' )\n",
    "\n",
    "plt.rcParams['font.size'] = 12\n",
    "\n",
    "plt.title('ROC curve for ANN')\n",
    "\n",
    "plt.xlabel('False Positive Rate (1 - Specificity)')\n",
    "\n",
    "plt.ylabel('True Positive Rate (Sensitivity)')\n",
    "\n",
    "plt.show()"
   ]
  },
  {
   "cell_type": "code",
   "execution_count": 64,
   "id": "31ad8313",
   "metadata": {},
   "outputs": [
    {
     "name": "stdout",
     "output_type": "stream",
     "text": [
      "Accuracy :  0.6384444444444445\n",
      "Precision :  0.8525628719523901\n",
      "Misclassification :  0.3615555555555555\n",
      "Sensitivity/True Positive Rate :  0.6411144795726866\n",
      "Specificity/True Negative Rate :  0.6295224312590448\n",
      "Prevalence :  0.49344444444444446\n"
     ]
    }
   ],
   "source": [
    "Total5=sum(sum(cm_ann))\n",
    "#####from confusion matrix calculate accuracy\n",
    "Accuracy5=(cm_ann[0,0]+cm_ann[1,1])/Total5\n",
    "print ('Accuracy : ', Accuracy5)\n",
    "\n",
    "Precision5=(cm_ann[0,0])/(cm_ann[0,0] + cm_ann[1,0])\n",
    "print ('Precision : ', Precision5)\n",
    "            \n",
    "print ('Misclassification : ', 1-Accuracy5)\n",
    "\n",
    "Sensitivity5 = cm_ann[0,0]/(cm_ann[0,0]+cm_ann[0,1])\n",
    "print('Sensitivity/True Positive Rate : ', Sensitivity5)\n",
    "\n",
    "Specificity5 = cm_ann[1,1]/(cm_ann[1,0]+cm_ann[1,1])\n",
    "print('Specificity/True Negative Rate : ', Specificity5)\n",
    "\n",
    "Prevalence5 = (cm_ann[0,0])/Total5\n",
    "print('Prevalence : ', Prevalence5)"
   ]
  },
  {
   "cell_type": "markdown",
   "id": "83e44723",
   "metadata": {},
   "source": [
    "<font color = blue>**Q5: Compare Models**</font>"
   ]
  },
  {
   "cell_type": "markdown",
   "id": "aa23148e",
   "metadata": {},
   "source": [
    "<font color = blue>Q5.1 Of the three models, which do you prefer to use and why?</font>"
   ]
  },
  {
   "cell_type": "code",
   "execution_count": 65,
   "id": "3fb468d6",
   "metadata": {},
   "outputs": [
    {
     "data": {
      "text/html": [
       "<div>\n",
       "<style scoped>\n",
       "    .dataframe tbody tr th:only-of-type {\n",
       "        vertical-align: middle;\n",
       "    }\n",
       "\n",
       "    .dataframe tbody tr th {\n",
       "        vertical-align: top;\n",
       "    }\n",
       "\n",
       "    .dataframe thead th {\n",
       "        text-align: right;\n",
       "    }\n",
       "</style>\n",
       "<table border=\"1\" class=\"dataframe\">\n",
       "  <thead>\n",
       "    <tr style=\"text-align: right;\">\n",
       "      <th></th>\n",
       "      <th>Accuracy</th>\n",
       "      <th>Sensitivity</th>\n",
       "      <th>Specificity</th>\n",
       "      <th>Precision</th>\n",
       "    </tr>\n",
       "  </thead>\n",
       "  <tbody>\n",
       "    <tr>\n",
       "      <th>Neural Network</th>\n",
       "      <td>0.638444</td>\n",
       "      <td>0.641114</td>\n",
       "      <td>0.629522</td>\n",
       "      <td>0.852563</td>\n",
       "    </tr>\n",
       "    <tr>\n",
       "      <th>Cluster 3</th>\n",
       "      <td>0.787816</td>\n",
       "      <td>0.809835</td>\n",
       "      <td>0.594595</td>\n",
       "      <td>0.809835</td>\n",
       "    </tr>\n",
       "    <tr>\n",
       "      <th>Cluster2</th>\n",
       "      <td>0.770973</td>\n",
       "      <td>0.785008</td>\n",
       "      <td>0.537143</td>\n",
       "      <td>0.785008</td>\n",
       "    </tr>\n",
       "    <tr>\n",
       "      <th>Cluster 1</th>\n",
       "      <td>0.728247</td>\n",
       "      <td>0.754220</td>\n",
       "      <td>0.638095</td>\n",
       "      <td>0.754220</td>\n",
       "    </tr>\n",
       "    <tr>\n",
       "      <th>KNN</th>\n",
       "      <td>0.763556</td>\n",
       "      <td>0.779825</td>\n",
       "      <td>0.564706</td>\n",
       "      <td>0.779825</td>\n",
       "    </tr>\n",
       "  </tbody>\n",
       "</table>\n",
       "</div>"
      ],
      "text/plain": [
       "                Accuracy  Sensitivity  Specificity  Precision\n",
       "Neural Network  0.638444     0.641114     0.629522   0.852563\n",
       "Cluster 3       0.787816     0.809835     0.594595   0.809835\n",
       "Cluster2        0.770973     0.785008     0.537143   0.785008\n",
       "Cluster 1       0.728247     0.754220     0.638095   0.754220\n",
       "KNN             0.763556     0.779825     0.564706   0.779825"
      ]
     },
     "execution_count": 65,
     "metadata": {},
     "output_type": "execute_result"
    }
   ],
   "source": [
    "Comparison = [[Accuracy5, Sensitivity5, Specificity5, Precision5], [Accuracy4, Sensitivity4, Specificity4, Precision4], [Accuracy3, Sensitivity3, Specificity3, Precision3], [Accuracy2, Sensitivity2, Specificity2, Precision2], [accuracy1, sensitivity1, specificity1, precision1]]\n",
    "\n",
    "Comparison_Table = pd.DataFrame(Comparison, index = ['Neural Network', 'Cluster 3', 'Cluster2', 'Cluster 1', 'KNN'], columns = ['Accuracy', 'Sensitivity', 'Specificity', 'Precision'])\n",
    "\n",
    "Comparison_Table"
   ]
  }
 ],
 "metadata": {
  "kernelspec": {
   "display_name": "Python 3 (ipykernel)",
   "language": "python",
   "name": "python3"
  },
  "language_info": {
   "codemirror_mode": {
    "name": "ipython",
    "version": 3
   },
   "file_extension": ".py",
   "mimetype": "text/x-python",
   "name": "python",
   "nbconvert_exporter": "python",
   "pygments_lexer": "ipython3",
   "version": "3.10.9"
  }
 },
 "nbformat": 4,
 "nbformat_minor": 5
}
